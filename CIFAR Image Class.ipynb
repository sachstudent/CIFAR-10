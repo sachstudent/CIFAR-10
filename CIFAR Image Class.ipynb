{
 "cells": [
  {
   "cell_type": "markdown",
   "id": "d90b0c6f",
   "metadata": {},
   "source": [
    "# Deep Learning Project - CIFAR-10 Image Classification"
   ]
  },
  {
   "cell_type": "markdown",
   "id": "2940b286",
   "metadata": {},
   "source": [
    "## Problem Description"
   ]
  },
  {
   "cell_type": "markdown",
   "id": "6a9a3018",
   "metadata": {},
   "source": [
    "In this project, I aim to build and train a Convolutional Neural Network to classify images from the CIFAR-10 dataset. The goal is to develop a deep learning model that can accurately classify the images in this dataset based on the features extracted by the CNN. By achieving this, I can demonstrate the effectiveness of deep learning techniques in handling complex image classification tasks, which are common in various real-world applications."
   ]
  },
  {
   "cell_type": "markdown",
   "id": "57a17081",
   "metadata": {},
   "source": [
    "## Step 1: Load and Inspect the Data"
   ]
  },
  {
   "cell_type": "code",
   "execution_count": null,
   "id": "b095f48f",
   "metadata": {},
   "outputs": [],
   "source": [
    "import tensorflow as tf\n",
    "\n",
    "# Load the CIFAR-10 dataset\n",
    "(x_train, y_train), (x_test, y_test) = tf.keras.datasets.cifar10.load_data()\n",
    "\n",
    "# Checking the shape of the datasets to understand the structure\n",
    "(x_train.shape, y_train.shape), (x_test.shape, y_test.shape)"
   ]
  },
  {
   "cell_type": "markdown",
   "id": "7f455f18",
   "metadata": {},
   "source": [
    "## Step 2: Inspecting and Visualizing the Data"
   ]
  },
  {
   "cell_type": "code",
   "execution_count": null,
   "id": "eb94dd91",
   "metadata": {},
   "outputs": [],
   "source": [
    "import matplotlib.pyplot as plt\n",
    "\n",
    "# Display class labels\n",
    "class_names = ['Airplane', 'Automobile', 'Bird', 'Cat', 'Deer', 'Dog', 'Frog', 'Horse', 'Ship', 'Truck']\n",
    "\n",
    "# Display the first 10 images from the training set\n",
    "plt.figure(figsize=(10, 10))\n",
    "for i in range(10):\n",
    "    plt.subplot(2, 5, i + 1)\n",
    "    plt.xticks([])\n",
    "    plt.yticks([])\n",
    "    plt.grid(False)\n",
    "    plt.imshow(x_train[i])\n",
    "    plt.xlabel(class_names[y_train[i][0]])\n",
    "plt.show()"
   ]
  },
  {
   "cell_type": "markdown",
   "id": "b29f7d03",
   "metadata": {},
   "source": [
    "## Step 3: Basic Statistics and Data Normalization"
   ]
  },
  {
   "cell_type": "code",
   "execution_count": null,
   "id": "9426430c",
   "metadata": {},
   "outputs": [],
   "source": [
    "import numpy as np\n",
    "\n",
    "# Count the number of instances per class in the training data\n",
    "class_counts = np.bincount(y_train.flatten())\n",
    "\n",
    "# Display the counts\n",
    "for i, count in enumerate(class_counts):\n",
    "    print(f\"{class_names[i]}: {count} images\")\n",
    "\n",
    "# Normalize the data to the range [0, 1]\n",
    "x_train = x_train.astype('float32') / 255.0\n",
    "x_test = x_test.astype('float32') / 255.0\n",
    "\n",
    "# Confirm normalization by checking the min and max values\n",
    "(x_train.min(), x_train.max()), (x_test.min(), x_test.max())"
   ]
  },
  {
   "cell_type": "markdown",
   "id": "132c8cf6",
   "metadata": {},
   "source": [
    "## Step 4: Building and Training the CNN Model"
   ]
  },
  {
   "cell_type": "code",
   "execution_count": null,
   "id": "567dd811",
   "metadata": {},
   "outputs": [],
   "source": [
    "from tensorflow.keras import layers, models\n",
    "\n",
    "# Define the CNN model\n",
    "model = models.Sequential([\n",
    "    layers.Conv2D(32, (3, 3), activation='relu', input_shape=(32, 32, 3)),\n",
    "    layers.MaxPooling2D((2, 2)),\n",
    "    layers.Conv2D(64, (3, 3), activation='relu'),\n",
    "    layers.MaxPooling2D((2, 2)),\n",
    "    layers.Conv2D(64, (3, 3), activation='relu'),\n",
    "    layers.Flatten(),\n",
    "    layers.Dense(64, activation='relu'),\n",
    "    layers.Dense(10, activation='softmax')\n",
    "])\n",
    "\n",
    "# Compile the model\n",
    "model.compile(optimizer='adam',\n",
    "              loss='sparse_categorical_crossentropy',\n",
    "              metrics=['accuracy'])\n",
    "\n",
    "# Display the model's architecture\n",
    "model.summary()"
   ]
  },
  {
   "cell_type": "markdown",
   "id": "4ed37edd",
   "metadata": {},
   "source": [
    "## Step 5: Training the Model"
   ]
  },
  {
   "cell_type": "code",
   "execution_count": null,
   "id": "cf31be24",
   "metadata": {},
   "outputs": [],
   "source": [
    "# Train the model\n",
    "history = model.fit(x_train, y_train, epochs=10, validation_data=(x_test, y_test))"
   ]
  },
  {
   "cell_type": "markdown",
   "id": "d6aa0e3c",
   "metadata": {},
   "source": [
    "## Step 6: Evaluating the Model"
   ]
  },
  {
   "cell_type": "code",
   "execution_count": null,
   "id": "ded18031",
   "metadata": {},
   "outputs": [],
   "source": [
    "# Evaluate the model on the test data\n",
    "test_loss, test_acc = model.evaluate(x_test, y_test, verbose=2)\n",
    "print(f\"Test accuracy: {test_acc:.4f}\")"
   ]
  },
  {
   "cell_type": "markdown",
   "id": "c7347cc5",
   "metadata": {},
   "source": [
    "## Step 7: Conclusion and Next Steps"
   ]
  },
  {
   "cell_type": "markdown",
   "id": "36d7fe5e",
   "metadata": {},
   "source": [
    "In this project, we built and trained a Convolutional Neural Network (CNN) to classify images from the CIFAR-10 dataset. The model achieved a good test accuracy. This provides a good foundation, but there is room for improvement.\n",
    "\n",
    "### Potential Next Steps:\n",
    "1. Enhance the dataset with transformations like rotation, zoom, and flip to improve model robustness.\n",
    "2. Experiment with different learning rates, optimizers, and network architectures.\n",
    "3. Explore more complex architectures like ResNet or VGG for potentially higher accuracy.\n",
    "\n"
   ]
  }
 ],
 "metadata": {
  "kernelspec": {
   "display_name": "base",
   "language": "python",
   "name": "python3"
  },
  "language_info": {
   "codemirror_mode": {
    "name": "ipython",
    "version": 3
   },
   "file_extension": ".py",
   "mimetype": "text/x-python",
   "name": "python",
   "nbconvert_exporter": "python",
   "pygments_lexer": "ipython3",
   "version": "3.9.13"
  }
 },
 "nbformat": 4,
 "nbformat_minor": 5
}
